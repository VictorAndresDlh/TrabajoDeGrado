{
 "cells": [
  {
   "cell_type": "code",
   "execution_count": 38,
   "id": "8e49384e",
   "metadata": {},
   "outputs": [],
   "source": [
    "import tweepy\n",
    "import pandas as pd"
   ]
  },
  {
   "cell_type": "code",
   "execution_count": 39,
   "id": "b24e5863",
   "metadata": {},
   "outputs": [],
   "source": [
    "consumer_key = '74NyB0lbRt9nYupIzXYh9WBtM'\n",
    "consumer_secret = 'q4Lsx8M884Vb1aEQr6zxHwvDoeSuateCifO2KdRqVoDePpPoQA'\n",
    "acces_token = '1967518776-6rHM1Eo3XYt4DEAC2W6tsEAawioaNQNuQdzax4o'\n",
    "acces_token_secret = 'PUiqcQTcLnslP7atRCZRJRmrWWY5ruEuSbMsfrkiOdhA5'"
   ]
  },
  {
   "cell_type": "code",
   "execution_count": 40,
   "id": "4f52569e",
   "metadata": {},
   "outputs": [],
   "source": [
    "auth = tweepy.OAuthHandler(consumer_key, consumer_secret)\n",
    "auth.set_access_token(acces_token, acces_token_secret)\n",
    "api = tweepy.API(auth)"
   ]
  },
  {
   "cell_type": "code",
   "execution_count": 51,
   "id": "4d159c19",
   "metadata": {},
   "outputs": [
    {
     "name": "stderr",
     "output_type": "stream",
     "text": [
      "Unexpected parameter: id\n",
      "Unexpected parameter: id\n",
      "Unexpected parameter: id\n",
      "Unexpected parameter: id\n",
      "Unexpected parameter: id\n",
      "Unexpected parameter: id\n",
      "Unexpected parameter: id\n",
      "Unexpected parameter: id\n",
      "Unexpected parameter: id\n",
      "Unexpected parameter: id\n"
     ]
    }
   ],
   "source": [
    "n_tweets = 200\n",
    "tweets = []\n",
    "likes = []\n",
    "time = []\n",
    "\n",
    "for i in tweepy.Cursor(api.user_timeline, id = 'petrogustavo', tweet_mode = 'extended').items(n_tweets):\n",
    "    tweets.append(i.full_text)\n",
    "    likes.append(i.favorite_count)\n",
    "    time.append(i.created_at)\n"
   ]
  },
  {
   "cell_type": "code",
   "execution_count": 55,
   "id": "8381b6ff",
   "metadata": {},
   "outputs": [],
   "source": [
    "df = pd.DataFrame({'tweets':tweets, 'likes':likes, 'time':time})"
   ]
  },
  {
   "cell_type": "code",
   "execution_count": 58,
   "id": "0d8292ae",
   "metadata": {},
   "outputs": [],
   "source": [
    "df = df[~df.tweets.str.contains('RT')]"
   ]
  },
  {
   "cell_type": "code",
   "execution_count": 59,
   "id": "2c2795ca",
   "metadata": {},
   "outputs": [
    {
     "data": {
      "text/html": [
       "<div>\n",
       "<style scoped>\n",
       "    .dataframe tbody tr th:only-of-type {\n",
       "        vertical-align: middle;\n",
       "    }\n",
       "\n",
       "    .dataframe tbody tr th {\n",
       "        vertical-align: top;\n",
       "    }\n",
       "\n",
       "    .dataframe thead th {\n",
       "        text-align: right;\n",
       "    }\n",
       "</style>\n",
       "<table border=\"1\" class=\"dataframe\">\n",
       "  <thead>\n",
       "    <tr style=\"text-align: right;\">\n",
       "      <th></th>\n",
       "      <th>tweets</th>\n",
       "      <th>likes</th>\n",
       "      <th>time</th>\n",
       "    </tr>\n",
       "  </thead>\n",
       "  <tbody>\n",
       "    <tr>\n",
       "      <th>0</th>\n",
       "      <td>Por bajar las tarifas de transmilenio para hac...</td>\n",
       "      <td>10003</td>\n",
       "      <td>2022-01-05 18:52:09+00:00</td>\n",
       "    </tr>\n",
       "    <tr>\n",
       "      <th>1</th>\n",
       "      <td>Los espero este 7 de enero en Barcelona, Catal...</td>\n",
       "      <td>2765</td>\n",
       "      <td>2022-01-05 18:19:43+00:00</td>\n",
       "    </tr>\n",
       "    <tr>\n",
       "      <th>4</th>\n",
       "      <td>No puede ser que tras el inicio de la campaña ...</td>\n",
       "      <td>2912</td>\n",
       "      <td>2022-01-04 23:07:09+00:00</td>\n",
       "    </tr>\n",
       "    <tr>\n",
       "      <th>5</th>\n",
       "      <td>Si la plataforma de inscripción de cédulas no ...</td>\n",
       "      <td>4972</td>\n",
       "      <td>2022-01-04 23:07:09+00:00</td>\n",
       "    </tr>\n",
       "    <tr>\n",
       "      <th>6</th>\n",
       "      <td>No fui tenido en cuenta, y más bien existió un...</td>\n",
       "      <td>1772</td>\n",
       "      <td>2022-01-04 22:20:14+00:00</td>\n",
       "    </tr>\n",
       "    <tr>\n",
       "      <th>...</th>\n",
       "      <td>...</td>\n",
       "      <td>...</td>\n",
       "      <td>...</td>\n",
       "    </tr>\n",
       "    <tr>\n",
       "      <th>191</th>\n",
       "      <td>No es una pregunta de Navidad, pero me atrevo ...</td>\n",
       "      <td>6649</td>\n",
       "      <td>2021-12-21 18:03:16+00:00</td>\n",
       "    </tr>\n",
       "    <tr>\n",
       "      <th>193</th>\n",
       "      <td>Robert Daza es dirigente campesino, que junto ...</td>\n",
       "      <td>1566</td>\n",
       "      <td>2021-12-21 17:18:04+00:00</td>\n",
       "    </tr>\n",
       "    <tr>\n",
       "      <th>194</th>\n",
       "      <td>Bienvenida Luz Marina, madre, a las listas del...</td>\n",
       "      <td>3773</td>\n",
       "      <td>2021-12-21 17:05:10+00:00</td>\n",
       "    </tr>\n",
       "    <tr>\n",
       "      <th>198</th>\n",
       "      <td>César Ferrari, profesor de economía, nos muest...</td>\n",
       "      <td>973</td>\n",
       "      <td>2021-12-21 13:25:56+00:00</td>\n",
       "    </tr>\n",
       "    <tr>\n",
       "      <th>199</th>\n",
       "      <td>Sobre la protección de la primera infancia, el...</td>\n",
       "      <td>1277</td>\n",
       "      <td>2021-12-21 13:19:57+00:00</td>\n",
       "    </tr>\n",
       "  </tbody>\n",
       "</table>\n",
       "<p>120 rows × 3 columns</p>\n",
       "</div>"
      ],
      "text/plain": [
       "                                                tweets  likes  \\\n",
       "0    Por bajar las tarifas de transmilenio para hac...  10003   \n",
       "1    Los espero este 7 de enero en Barcelona, Catal...   2765   \n",
       "4    No puede ser que tras el inicio de la campaña ...   2912   \n",
       "5    Si la plataforma de inscripción de cédulas no ...   4972   \n",
       "6    No fui tenido en cuenta, y más bien existió un...   1772   \n",
       "..                                                 ...    ...   \n",
       "191  No es una pregunta de Navidad, pero me atrevo ...   6649   \n",
       "193  Robert Daza es dirigente campesino, que junto ...   1566   \n",
       "194  Bienvenida Luz Marina, madre, a las listas del...   3773   \n",
       "198  César Ferrari, profesor de economía, nos muest...    973   \n",
       "199  Sobre la protección de la primera infancia, el...   1277   \n",
       "\n",
       "                         time  \n",
       "0   2022-01-05 18:52:09+00:00  \n",
       "1   2022-01-05 18:19:43+00:00  \n",
       "4   2022-01-04 23:07:09+00:00  \n",
       "5   2022-01-04 23:07:09+00:00  \n",
       "6   2022-01-04 22:20:14+00:00  \n",
       "..                        ...  \n",
       "191 2021-12-21 18:03:16+00:00  \n",
       "193 2021-12-21 17:18:04+00:00  \n",
       "194 2021-12-21 17:05:10+00:00  \n",
       "198 2021-12-21 13:25:56+00:00  \n",
       "199 2021-12-21 13:19:57+00:00  \n",
       "\n",
       "[120 rows x 3 columns]"
      ]
     },
     "execution_count": 59,
     "metadata": {},
     "output_type": "execute_result"
    }
   ],
   "source": [
    "df"
   ]
  }
 ],
 "metadata": {
  "kernelspec": {
   "display_name": "Python 3 (ipykernel)",
   "language": "python",
   "name": "python3"
  },
  "language_info": {
   "codemirror_mode": {
    "name": "ipython",
    "version": 3
   },
   "file_extension": ".py",
   "mimetype": "text/x-python",
   "name": "python",
   "nbconvert_exporter": "python",
   "pygments_lexer": "ipython3",
   "version": "3.9.7"
  }
 },
 "nbformat": 4,
 "nbformat_minor": 5
}
