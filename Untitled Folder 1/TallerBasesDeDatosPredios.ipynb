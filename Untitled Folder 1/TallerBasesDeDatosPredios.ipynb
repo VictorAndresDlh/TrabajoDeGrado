{
 "cells": [
  {
   "cell_type": "code",
   "execution_count": 2,
   "id": "60d79bb8",
   "metadata": {},
   "outputs": [
    {
     "data": {
      "text/plain": [
       "'1.4.22'"
      ]
     },
     "execution_count": 2,
     "metadata": {},
     "output_type": "execute_result"
    }
   ],
   "source": [
    "import sqlalchemy\n",
    "sqlalchemy.__version__ "
   ]
  },
  {
   "cell_type": "code",
   "execution_count": 1,
   "id": "2ea0430a",
   "metadata": {},
   "outputs": [
    {
     "name": "stdout",
     "output_type": "stream",
     "text": [
      "Start connecting to the database\n",
      "user:NEW_ROOT\n",
      "mysql password:199508\n",
      "host:localhost\n",
      "port:3306\n",
      "db:base\n"
     ]
    },
    {
     "ename": "NameError",
     "evalue": "name 'create_engine' is not defined",
     "output_type": "error",
     "traceback": [
      "\u001b[1;31m---------------------------------------------------------------------------\u001b[0m",
      "\u001b[1;31mNameError\u001b[0m                                 Traceback (most recent call last)",
      "\u001b[1;32m~\\AppData\\Local\\Temp/ipykernel_4400/514768699.py\u001b[0m in \u001b[0;36m<module>\u001b[1;34m\u001b[0m\n\u001b[0;32m     15\u001b[0m     \u001b[1;32mreturn\u001b[0m \u001b[0mengine\u001b[0m\u001b[1;33m,\u001b[0m \u001b[0mconnection_string\u001b[0m\u001b[1;33m\u001b[0m\u001b[1;33m\u001b[0m\u001b[0m\n\u001b[0;32m     16\u001b[0m \u001b[1;33m\u001b[0m\u001b[0m\n\u001b[1;32m---> 17\u001b[1;33m \u001b[0mengine\u001b[0m\u001b[1;33m,\u001b[0m \u001b[0mconnection_string\u001b[0m \u001b[1;33m=\u001b[0m \u001b[0mconnect_db\u001b[0m\u001b[1;33m(\u001b[0m\u001b[1;33m)\u001b[0m\u001b[1;33m\u001b[0m\u001b[1;33m\u001b[0m\u001b[0m\n\u001b[0m",
      "\u001b[1;32m~\\AppData\\Local\\Temp/ipykernel_4400/514768699.py\u001b[0m in \u001b[0;36mconnect_db\u001b[1;34m()\u001b[0m\n\u001b[0;32m     10\u001b[0m     \u001b[0mconnection_string\u001b[0m \u001b[1;33m=\u001b[0m \u001b[1;34m'mysql+pymysql://%s:%s@%s:%d/%s'\u001b[0m \u001b[1;33m%\u001b[0m \u001b[1;33m(\u001b[0m\u001b[0msql_user\u001b[0m\u001b[1;33m,\u001b[0m \u001b[0msql_passwd\u001b[0m\u001b[1;33m,\u001b[0m \u001b[0msql_host\u001b[0m\u001b[1;33m,\u001b[0m \u001b[0msql_port\u001b[0m\u001b[1;33m,\u001b[0m \u001b[0msql_db\u001b[0m\u001b[1;33m)\u001b[0m\u001b[1;33m\u001b[0m\u001b[1;33m\u001b[0m\u001b[0m\n\u001b[0;32m     11\u001b[0m \u001b[1;33m\u001b[0m\u001b[0m\n\u001b[1;32m---> 12\u001b[1;33m     \u001b[0mengine\u001b[0m \u001b[1;33m=\u001b[0m \u001b[0mcreate_engine\u001b[0m\u001b[1;33m(\u001b[0m\u001b[0mconnection_string\u001b[0m\u001b[1;33m)\u001b[0m\u001b[1;33m\u001b[0m\u001b[1;33m\u001b[0m\u001b[0m\n\u001b[0m\u001b[0;32m     13\u001b[0m     \u001b[0mprint\u001b[0m\u001b[1;33m(\u001b[0m\u001b[1;34m\"%s database connection succeeded\"\u001b[0m \u001b[1;33m%\u001b[0m \u001b[0msql_db\u001b[0m\u001b[1;33m)\u001b[0m\u001b[1;33m\u001b[0m\u001b[1;33m\u001b[0m\u001b[0m\n\u001b[0;32m     14\u001b[0m \u001b[1;33m\u001b[0m\u001b[0m\n",
      "\u001b[1;31mNameError\u001b[0m: name 'create_engine' is not defined"
     ]
    }
   ],
   "source": [
    "def connect_db():\n",
    "    # MySQL user: root, password:, port:, database:\n",
    "    print(\"Start connecting to the database\")\n",
    "    sql_user = input(\"user:\") # root\n",
    "    sql_passwd = input(\"mysql password:\") #Alvaro1960\n",
    "    sql_host = input(\"host:\") # localhost\n",
    "    sql_port = int(input(\"port:\")) # 3306\n",
    "    sql_db = input(\"db:\") # sakila\n",
    "    \n",
    "    connection_string = 'mysql+pymysql://%s:%s@%s:%d/%s' % (sql_user, sql_passwd, sql_host, sql_port, sql_db) \n",
    "    \n",
    "    engine = create_engine(connection_string)\n",
    "    print(\"%s database connection succeeded\" % sql_db)\n",
    "    \n",
    "    return engine, connection_string\n",
    "\n",
    "engine, connection_string = connect_db() "
   ]
  }
 ],
 "metadata": {
  "kernelspec": {
   "display_name": "Python 3 (ipykernel)",
   "language": "python",
   "name": "python3"
  },
  "language_info": {
   "codemirror_mode": {
    "name": "ipython",
    "version": 3
   },
   "file_extension": ".py",
   "mimetype": "text/x-python",
   "name": "python",
   "nbconvert_exporter": "python",
   "pygments_lexer": "ipython3",
   "version": "3.9.7"
  }
 },
 "nbformat": 4,
 "nbformat_minor": 5
}
