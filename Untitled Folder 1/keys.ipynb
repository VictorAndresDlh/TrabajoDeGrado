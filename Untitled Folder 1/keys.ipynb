{
 "cells": [
  {
   "cell_type": "code",
   "execution_count": 1,
   "id": "7b6081de",
   "metadata": {},
   "outputs": [],
   "source": [
    "consumer_key = '74NyB0lbRt9nYupIzXYh9WBtM'\n",
    "consumer_secret = 'q4Lsx8M884Vb1aEQr6zxHwvDoeSuateCifO2KdRqVoDePpPoQA'\n",
    "acces_token = '1967518776-6rHM1Eo3XYt4DEAC2W6tsEAawioaNQNuQdzax4o'\n",
    "acces_token_secret = 'PUiqcQTcLnslP7atRCZRJRmrWWY5ruEuSbMsfrkiOdhA5'"
   ]
  }
 ],
 "metadata": {
  "kernelspec": {
   "display_name": "Python 3 (ipykernel)",
   "language": "python",
   "name": "python3"
  },
  "language_info": {
   "codemirror_mode": {
    "name": "ipython",
    "version": 3
   },
   "file_extension": ".py",
   "mimetype": "text/x-python",
   "name": "python",
   "nbconvert_exporter": "python",
   "pygments_lexer": "ipython3",
   "version": "3.9.7"
  }
 },
 "nbformat": 4,
 "nbformat_minor": 5
}
